{
 "cells": [
  {
   "cell_type": "markdown",
   "id": "3b9091ce-3769-45bf-b4c2-5b6049cdbe5f",
   "metadata": {},
   "source": [
    "Guide ITK: https://itk.org/ItkSoftwareGuide.pdf"
   ]
  },
  {
   "cell_type": "code",
   "execution_count": 2,
   "id": "ad449c92-561d-49a1-b53e-93fbe2b14ccd",
   "metadata": {},
   "outputs": [
    {
     "name": "stdout",
     "output_type": "stream",
     "text": [
      "5.4.0\n"
     ]
    }
   ],
   "source": [
    "import itk\n",
    "print(itk.Version.GetITKVersion())"
   ]
  },
  {
   "cell_type": "markdown",
   "id": "25640fce-a39e-4757-b1c3-2639c5fd25f2",
   "metadata": {},
   "source": [
    "Guide VTK : https://vtk.org/wp-content/uploads/2021/08/VTKUsersGuide.pdf"
   ]
  },
  {
   "cell_type": "code",
   "execution_count": 3,
   "id": "a37e8a52-ad22-4da3-9b27-9a6bf6355fd7",
   "metadata": {},
   "outputs": [
    {
     "name": "stdout",
     "output_type": "stream",
     "text": [
      "9.3.0\n"
     ]
    }
   ],
   "source": [
    "import vtk\n",
    "print(vtk.__version__)"
   ]
  },
  {
   "cell_type": "code",
   "execution_count": 4,
   "id": "7ee552b9-976a-413c-914a-1a7ee8deef0c",
   "metadata": {},
   "outputs": [],
   "source": [
    "import matplotlib.pyplot as plt"
   ]
  },
  {
   "cell_type": "code",
   "execution_count": null,
   "id": "ce346809-c460-42f7-aac8-22b0db7004ae",
   "metadata": {},
   "outputs": [],
   "source": []
  }
 ],
 "metadata": {
  "kernelspec": {
   "display_name": "(VITK-venv)",
   "language": "python",
   "name": "vitk-venv"
  },
  "language_info": {
   "codemirror_mode": {
    "name": "ipython",
    "version": 3
   },
   "file_extension": ".py",
   "mimetype": "text/x-python",
   "name": "python",
   "nbconvert_exporter": "python",
   "pygments_lexer": "ipython3",
   "version": "3.10.12"
  }
 },
 "nbformat": 4,
 "nbformat_minor": 5
}
