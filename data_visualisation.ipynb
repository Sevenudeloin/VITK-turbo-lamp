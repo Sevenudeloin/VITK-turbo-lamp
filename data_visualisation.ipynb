{
 "cells": [
  {
   "cell_type": "markdown",
   "id": "3b9091ce-3769-45bf-b4c2-5b6049cdbe5f",
   "metadata": {},
   "source": [
    "Guide ITK: https://itk.org/ItkSoftwareGuide.pdf"
   ]
  },
  {
   "cell_type": "code",
   "execution_count": 1,
   "id": "ad449c92-561d-49a1-b53e-93fbe2b14ccd",
   "metadata": {},
   "outputs": [
    {
     "name": "stdout",
     "output_type": "stream",
     "text": [
      "5.4.0\n"
     ]
    }
   ],
   "source": [
    "import itk\n",
    "print(itk.Version.GetITKVersion())"
   ]
  },
  {
   "cell_type": "markdown",
   "id": "25640fce-a39e-4757-b1c3-2639c5fd25f2",
   "metadata": {},
   "source": [
    "Guide VTK : https://vtk.org/wp-content/uploads/2021/08/VTKUsersGuide.pdf"
   ]
  },
  {
   "cell_type": "code",
   "execution_count": 2,
   "id": "a37e8a52-ad22-4da3-9b27-9a6bf6355fd7",
   "metadata": {},
   "outputs": [
    {
     "name": "stdout",
     "output_type": "stream",
     "text": [
      "9.3.0\n"
     ]
    }
   ],
   "source": [
    "import vtk\n",
    "print(vtk.__version__)"
   ]
  },
  {
   "cell_type": "code",
   "execution_count": 3,
   "id": "7ee552b9-976a-413c-914a-1a7ee8deef0c",
   "metadata": {},
   "outputs": [],
   "source": [
    "import matplotlib.pyplot as plt"
   ]
  },
  {
   "cell_type": "code",
   "execution_count": 14,
   "id": "ad442739-d94c-4ac4-98fb-aee4d57cdb37",
   "metadata": {},
   "outputs": [],
   "source": [
    "# renderWindowInteractor.SetInteractorStyle(vtk.vtkInteractorStyleImage())"
   ]
  },
  {
   "cell_type": "markdown",
   "id": "e143cff4-114b-4f49-a9f4-9a5c49a04c05",
   "metadata": {},
   "source": [
    "### Trying with 3D viewer"
   ]
  },
  {
   "cell_type": "code",
   "execution_count": 38,
   "id": "28bc0b29-8039-4028-be8e-aefa15a3d7e9",
   "metadata": {},
   "outputs": [],
   "source": [
    "nrrdReader = vtk.vtkNrrdReader()\n",
    "nrrdReader.SetFileName(\"./Data/case6_gre1.nrrd\")\n",
    "# nrrdReader.SetFileName(\"./Data/case6_gre2.nrrd\")\n",
    "nrrdReader.Update()"
   ]
  },
  {
   "cell_type": "markdown",
   "id": "bff0f7c0-a297-4301-a807-bc3622c6bc18",
   "metadata": {},
   "source": [
    "https://stackoverflow.com/a/56765160"
   ]
  },
  {
   "cell_type": "code",
   "execution_count": 39,
   "id": "9b144a86-7022-4f20-97cb-7e150cd6f094",
   "metadata": {},
   "outputs": [],
   "source": [
    "# Calculate the center of the volume\n",
    "nrrdReader.Update()\n",
    "(xMin, xMax, yMin, yMax, zMin, zMax) = nrrdReader.GetExecutive().GetWholeExtent(nrrdReader.GetOutputInformation(0))\n",
    "(xSpacing, ySpacing, zSpacing) = nrrdReader.GetOutput().GetSpacing()\n",
    "(x0, y0, z0) = nrrdReader.GetOutput().GetOrigin()\n",
    "\n",
    "center = [x0 + xSpacing * 0.5 * (xMin + xMax),\n",
    "          y0 + ySpacing * 0.5 * (yMin + yMax),\n",
    "          z0 + zSpacing * 0.5 * (zMin + zMax)]"
   ]
  },
  {
   "cell_type": "code",
   "execution_count": 40,
   "id": "73677107-77e3-42b6-a26d-93da05492584",
   "metadata": {},
   "outputs": [],
   "source": [
    "# Matrices for axial, coronal, sagittal, oblique view orientations\n",
    "axial = vtk.vtkMatrix4x4()\n",
    "axial.DeepCopy((1, 0, 0, center[0],\n",
    "                0, 1, 0, center[1],\n",
    "                0, 0, 1, center[2],\n",
    "                0, 0, 0, 1))\n",
    "\n",
    "coronal = vtk.vtkMatrix4x4()\n",
    "coronal.DeepCopy((1, 0, 0, center[0],\n",
    "                  0, 0, 1, center[1],\n",
    "                  0,-1, 0, center[2],\n",
    "                  0, 0, 0, 1))\n",
    "\n",
    "sagittal = vtk.vtkMatrix4x4()\n",
    "sagittal.DeepCopy((0, 0,-1, center[0],\n",
    "                   1, 0, 0, center[1],\n",
    "                   0,-1, 0, center[2],\n",
    "                   0, 0, 0, 1))\n",
    "\n",
    "oblique = vtk.vtkMatrix4x4()\n",
    "oblique.DeepCopy((1, 0, 0, center[0],\n",
    "                  0, 0.866025, -0.5, center[1],\n",
    "                  0, 0.5, 0.866025, center[2],\n",
    "                  0, 0, 0, 1))"
   ]
  },
  {
   "cell_type": "code",
   "execution_count": 41,
   "id": "b9f74114-ee97-4013-ba27-5166330f55cc",
   "metadata": {},
   "outputs": [],
   "source": [
    "# Extract a slice in the desired orientation\n",
    "reslice = vtk.vtkImageReslice()\n",
    "reslice.SetInputConnection(nrrdReader.GetOutputPort())\n",
    "reslice.SetOutputDimensionality(2)\n",
    "reslice.SetResliceAxes(axial)\n",
    "reslice.SetInterpolationModeToLinear()"
   ]
  },
  {
   "cell_type": "code",
   "execution_count": 42,
   "id": "723f7ca8-5e0d-48fd-868a-ecbb1bc5a1d7",
   "metadata": {},
   "outputs": [],
   "source": [
    "# Create a greyscale lookup table\n",
    "table = vtk.vtkLookupTable()\n",
    "table.SetRange(0, 2000) # image intensity range\n",
    "table.SetValueRange(0.0, 1.0) # from black to white\n",
    "table.SetSaturationRange(0.0, 0.0) # no color saturation\n",
    "table.SetRampToLinear()\n",
    "table.Build()"
   ]
  },
  {
   "cell_type": "code",
   "execution_count": 43,
   "id": "e282a91c-e016-41a5-a2ef-e93ba2528b80",
   "metadata": {},
   "outputs": [],
   "source": [
    "# Map the image through the lookup table\n",
    "color = vtk.vtkImageMapToColors()\n",
    "color.SetLookupTable(table)\n",
    "color.SetInputConnection(reslice.GetOutputPort())"
   ]
  },
  {
   "cell_type": "code",
   "execution_count": 44,
   "id": "bddce8cb-aebc-4e3b-a2c9-82e81eb94b41",
   "metadata": {},
   "outputs": [],
   "source": [
    "# Display the image\n",
    "actor = vtk.vtkImageActor()\n",
    "actor.GetMapper().SetInputConnection(color.GetOutputPort())\n",
    "\n",
    "renderer = vtk.vtkRenderer()\n",
    "renderer.AddActor(actor)\n",
    "\n",
    "window = vtk.vtkRenderWindow()\n",
    "window.AddRenderer(renderer)"
   ]
  },
  {
   "cell_type": "code",
   "execution_count": 45,
   "id": "c1163c33-b759-429c-bed1-650d90a411dd",
   "metadata": {},
   "outputs": [],
   "source": [
    "# Set up the interaction\n",
    "interactorStyle = vtk.vtkInteractorStyleImage()\n",
    "interactor = vtk.vtkRenderWindowInteractor()\n",
    "interactor.SetInteractorStyle(interactorStyle)\n",
    "window.SetInteractor(interactor)\n",
    "window.Render()"
   ]
  },
  {
   "cell_type": "code",
   "execution_count": 46,
   "id": "b1a4eaa1-640f-4883-b27e-592a0debc76a",
   "metadata": {},
   "outputs": [
    {
     "data": {
      "text/plain": [
       "6"
      ]
     },
     "execution_count": 46,
     "metadata": {},
     "output_type": "execute_result"
    }
   ],
   "source": [
    "# Create callbacks for slicing the image\n",
    "actions = {}\n",
    "actions[\"Slicing\"] = 0\n",
    "\n",
    "def ButtonCallback(obj, event):\n",
    "    if event == \"LeftButtonPressEvent\":\n",
    "        actions[\"Slicing\"] = 1\n",
    "    else:\n",
    "        actions[\"Slicing\"] = 0\n",
    "\n",
    "def MouseMoveCallback(obj, event):\n",
    "    (lastX, lastY) = interactor.GetLastEventPosition()\n",
    "    (mouseX, mouseY) = interactor.GetEventPosition()\n",
    "    if actions[\"Slicing\"] == 1:\n",
    "        deltaY = mouseY - lastY\n",
    "        reslice.Update()\n",
    "        sliceSpacing = reslice.GetOutput().GetSpacing()[2]\n",
    "        matrix = reslice.GetResliceAxes()\n",
    "        # move the center point that we are slicing through\n",
    "        center = matrix.MultiplyPoint((0, 0, sliceSpacing*deltaY, 1))\n",
    "        matrix.SetElement(0, 3, center[0])\n",
    "        matrix.SetElement(1, 3, center[1])\n",
    "        matrix.SetElement(2, 3, center[2])\n",
    "        window.Render()\n",
    "    else:\n",
    "        interactorStyle.OnMouseMove()\n",
    "\n",
    "\n",
    "interactorStyle.AddObserver(\"MouseMoveEvent\", MouseMoveCallback)\n",
    "interactorStyle.AddObserver(\"LeftButtonPressEvent\", ButtonCallback)\n",
    "interactorStyle.AddObserver(\"LeftButtonReleaseEvent\", ButtonCallback)"
   ]
  },
  {
   "cell_type": "code",
   "execution_count": 47,
   "id": "3a396202-43a9-463f-89ae-86b5f044b1ea",
   "metadata": {},
   "outputs": [],
   "source": [
    "# Start interaction\n",
    "interactor.Start()\n",
    "del renderer\n",
    "del window\n",
    "del interactor"
   ]
  },
  {
   "cell_type": "code",
   "execution_count": null,
   "id": "74e65676-6c3d-4030-bcc0-82082bdd381b",
   "metadata": {},
   "outputs": [],
   "source": []
  }
 ],
 "metadata": {
  "kernelspec": {
   "display_name": "(VITK-venv)",
   "language": "python",
   "name": "vitk-venv"
  },
  "language_info": {
   "codemirror_mode": {
    "name": "ipython",
    "version": 3
   },
   "file_extension": ".py",
   "mimetype": "text/x-python",
   "name": "python",
   "nbconvert_exporter": "python",
   "pygments_lexer": "ipython3",
   "version": "3.10.12"
  }
 },
 "nbformat": 4,
 "nbformat_minor": 5
}
